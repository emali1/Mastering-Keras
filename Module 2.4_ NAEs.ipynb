{
  "nbformat": 4,
  "nbformat_minor": 0,
  "metadata": {
    "colab": {
      "name": "Module 2_4 NAE.ipynb",
      "provenance": [],
      "collapsed_sections": []
    },
    "kernelspec": {
      "name": "python3",
      "display_name": "Python 3"
    },
    "accelerator": "GPU"
  },
  "cells": [
    {
      "cell_type": "markdown",
      "metadata": {
        "id": "Hlg1y9CXgyNL"
      },
      "source": [
        "## Module 2.4: Working with Auto-Encoders in Keras (A Review)\n",
        "\n",
        "We implementing a denoising auto-encoder in the Keras functional API. In this module we will pay attention to:\n",
        "\n",
        "1. Using the Keras functional API for defining models.\n",
        "2. Understanding denoising auto-encoders.\n",
        "\n",
        "A denoising auto-encoder is at base just a normal MLP with an unusual use. So this will be a relatively simple tutorial.\n",
        "\n",
        "Those students who are comfortable with all these matters might consider skipping ahead.\n",
        "\n",
        "Note that we will not spend time tuning hyper-parameters: The purpose is to show how different techniques can be implemented in Keras, not to solve particular data science problems as optimally as possible. Obviously, most techniques include hyper-parameters that need to be tuned for optimal performance."
      ]
    },
    {
      "cell_type": "code",
      "metadata": {
        "id": "ejqJEi8hSvzw",
        "outputId": "c1036182-21d8-4bea-f9e9-92602c6339b8",
        "colab": {
          "base_uri": "https://localhost:8080/"
        }
      },
      "source": [
        "gpu_info = !nvidia-smi\n",
        "gpu_info = '\\n'.join(gpu_info)\n",
        "if gpu_info.find('failed') >= 0:\n",
        "  print('Select the Runtime > \"Change runtime type\" menu to enable a GPU accelerator, ')\n",
        "  print('and then re-execute this cell.')\n",
        "else:\n",
        "  print(gpu_info)"
      ],
      "execution_count": 2,
      "outputs": [
        {
          "output_type": "stream",
          "text": [
            "Wed Apr 21 07:19:35 2021       \n",
            "+-----------------------------------------------------------------------------+\n",
            "| NVIDIA-SMI 460.67       Driver Version: 460.32.03    CUDA Version: 11.2     |\n",
            "|-------------------------------+----------------------+----------------------+\n",
            "| GPU  Name        Persistence-M| Bus-Id        Disp.A | Volatile Uncorr. ECC |\n",
            "| Fan  Temp  Perf  Pwr:Usage/Cap|         Memory-Usage | GPU-Util  Compute M. |\n",
            "|                               |                      |               MIG M. |\n",
            "|===============================+======================+======================|\n",
            "|   0  Tesla P100-PCIE...  Off  | 00000000:00:04.0 Off |                    0 |\n",
            "| N/A   34C    P0    26W / 250W |      0MiB / 16280MiB |      0%      Default |\n",
            "|                               |                      |                  N/A |\n",
            "+-------------------------------+----------------------+----------------------+\n",
            "                                                                               \n",
            "+-----------------------------------------------------------------------------+\n",
            "| Processes:                                                                  |\n",
            "|  GPU   GI   CI        PID   Type   Process name                  GPU Memory |\n",
            "|        ID   ID                                                   Usage      |\n",
            "|=============================================================================|\n",
            "|  No running processes found                                                 |\n",
            "+-----------------------------------------------------------------------------+\n"
          ],
          "name": "stdout"
        }
      ]
    },
    {
      "cell_type": "markdown",
      "metadata": {
        "id": "i5Dcz2UkDL7P"
      },
      "source": [
        "First we import required libraries."
      ]
    },
    {
      "cell_type": "code",
      "metadata": {
        "id": "Ix_kQNNoPm3M"
      },
      "source": [
        "import numpy as np\n",
        "\n",
        "from keras.datasets import mnist\n",
        "from keras.backend import int_shape\n",
        "from keras.models import Sequential\n",
        "from keras import Model\n",
        "from keras.layers import Dense,Dropout,Flatten,Activation,Input,Reshape, Conv2DTranspose\n",
        "from keras.optimizers import Adam\n",
        "from keras.layers.convolutional import Conv2D,MaxPooling2D\n",
        "from keras.callbacks import EarlyStopping\n",
        "\n",
        "import matplotlib.pyplot as plt\n"
      ],
      "execution_count": 35,
      "outputs": []
    },
    {
      "cell_type": "markdown",
      "metadata": {
        "id": "WnXhgPsJCTZR"
      },
      "source": [
        "We load the MNIST data. These are 28 by 28 greyscale images of handwritten digits (0-9).\n",
        "\n",
        "We are going to want few versions of the images:\n",
        " - Normalized\n",
        " - Normalized + Noise\n",
        "\n",
        "Of course we also want the image labels, and we will also make use of a vector of class names. Below we give a function that will get these things, the data components divided into training and test sets. We will then call the function."
      ]
    },
    {
      "cell_type": "code",
      "metadata": {
        "id": "HX0PngdmrAYY"
      },
      "source": [
        "def get_data():\n",
        "  (x_train_raw, y_train), (x_test_raw, y_test) = mnist.load_data()\n",
        "\n",
        "  # Pre-process them into real numbers between 0 and 1 and flatten\n",
        "  x_train_raw = x_train_raw.astype('float32') / 255.\n",
        "  x_test_raw = x_test_raw.astype('float32') / 255.\n",
        "\n",
        "  # Reshape to channel last (single channel, since greyscale)\n",
        "  x_train = np.reshape(x_train_raw, (-1, x_train_raw.shape[1], x_train_raw.shape[2], 1))\n",
        "  x_test = np.reshape(x_train_raw, (-1, x_test_raw.shape[1], x_test_raw.shape[2], 1))\n",
        "\n",
        "  # Make noisy images by adding Gaussian noise with mean=0.5 and std=0.5\n",
        "  # noise = np.random.random(size=x_train.shape)\n",
        "  noise = np.random.normal(loc=0.5, scale=0.5, size=x_train.shape)\n",
        "  x_train_noisy = x_train + noise\n",
        "  # noise = np.random.random(size=x_test.shape)\n",
        "  noise = np.random.normal(loc=0.5, scale=0.5, size=x_test.shape)\n",
        "  x_test_noisy = x_test + noise\n",
        "  # But clip values so they remain with 0 and 1\n",
        "  x_train_noisy = np.clip(x_train_noisy, 0., 1.)\n",
        "  x_test_noisy = np.clip(x_test_noisy, 0., 1.)\n",
        "\n",
        "  class_names=np.array([\"0\",\"1\",\"2\",\"3\",\"4\",\"5\",\"6\",\"7\",\"8\",\"9\"])\n",
        "  \n",
        "  return x_train,x_train_noisy,y_train,x_test,x_test_noisy,y_test,class_names"
      ],
      "execution_count": 38,
      "outputs": []
    },
    {
      "cell_type": "code",
      "metadata": {
        "id": "tD9eebGtexKd",
        "outputId": "644d210b-fb6e-49b1-c81b-4ea5e02d4eec",
        "colab": {
          "base_uri": "https://localhost:8080/"
        }
      },
      "source": [
        "np.random.random(size=x_train.shape).shape"
      ],
      "execution_count": 54,
      "outputs": [
        {
          "output_type": "execute_result",
          "data": {
            "text/plain": [
              "(60000, 28, 28, 1)"
            ]
          },
          "metadata": {
            "tags": []
          },
          "execution_count": 54
        }
      ]
    },
    {
      "cell_type": "code",
      "metadata": {
        "id": "88ZRihRwwxb8"
      },
      "source": [
        "x_train,x_train_noisy,y_train,x_test,x_test_noisy,y_test,class_names=get_data()"
      ],
      "execution_count": 19,
      "outputs": []
    },
    {
      "cell_type": "markdown",
      "metadata": {
        "id": "XwcmQqFXDiiF"
      },
      "source": [
        "Let's create a function that will let us look at the MNIST images, and then call it."
      ]
    },
    {
      "cell_type": "code",
      "metadata": {
        "id": "lUjj2WJAi_1L"
      },
      "source": [
        "def show_images(images,labels,class_names):\n",
        "  plt.figure(figsize=(10,10))\n",
        "  indices=np.random.randint(0,images.shape[0],25)\n",
        "  for i in range(25):\n",
        "      plt.subplot(5,5,i+1)\n",
        "      plt.xticks([])\n",
        "      plt.yticks([])\n",
        "      plt.grid(False)\n",
        "      plt.imshow(images[indices[i]].reshape((28,28)), cmap=plt.cm.binary)\n",
        "      plt.xlabel(class_names[labels[indices[i]]])\n",
        "  plt.show()"
      ],
      "execution_count": 39,
      "outputs": []
    },
    {
      "cell_type": "code",
      "metadata": {
        "id": "B65ILYnzrOxM",
        "colab": {
          "base_uri": "https://localhost:8080/",
          "height": 589
        },
        "outputId": "6cd62fff-9db2-4882-f0bb-8ab9067a9506"
      },
      "source": [
        "show_images(x_train,y_train,class_names)"
      ],
      "execution_count": 40,
      "outputs": [
        {
          "output_type": "display_data",
          "data": {
            "image/png": "[encoded data removed]",
            "text/plain": [
              "<Figure size 720x720 with 25 Axes>"
            ]
          },
          "metadata": {
            "tags": []
          }
        }
      ]
    },
    {
      "cell_type": "markdown",
      "metadata": {
        "id": "jMPNZkmAv7gR"
      },
      "source": [
        "Now the interesting part: It is time to define our Denoising Autoencoder.\n",
        "\n",
        "It will consist of a number of convolution layers leading to a (flat) vector encoding of the image. We will then seek to reconstruct an image from this vector encoding by passing through a number of transposed (reversed) convolution layers. The idea is that we will encode the important information of a noisy image in the encoding, from which we will reconstruct a denoised version.\n",
        "\n",
        "We will see when we look at variational autoencoders later that it can be useful to be able to use the encoder and decoder components of some autoencoders as separate models. To that end, we will practice using the Keras functional API to construct several models from the same set of layers. "
      ]
    },
    {
      "cell_type": "code",
      "metadata": {
        "id": "OWYU3uR4v7qJ"
      },
      "source": [
        "def get_models():\n",
        "  # First define the Encoder Model\n",
        "  encoder_inputs = Input(shape=(28,28,1), name='Encoder_Input')\n",
        "\n",
        "  conv1 = Conv2D(filters=32,\n",
        "                 kernel_size=(3,3),\n",
        "                 strides=2,\n",
        "                 activation='relu',\n",
        "                 padding='same')(encoder_inputs)\n",
        "  conv2 = Conv2D(filters=64,\n",
        "                 kernel_size=(3,3),\n",
        "                 strides=2,\n",
        "                 activation='relu',\n",
        "                 padding='same')(conv1)\n",
        "  flat1 = Flatten()(conv2)\n",
        "  encoding = Dense(16, name='Encoding')(flat1)\n",
        "\n",
        "  # Create Encoder Model\n",
        "  encoder = Model(encoder_inputs, encoding)\n",
        "\n",
        "  # Now define the Decoder Model\n",
        "  decoder_inputs = Input(shape=(16,), name='Decoder_Input')\n",
        "\n",
        "  # We reverse the convolutions.\n",
        "  # To do this we need to know the shape. We could hard code \n",
        "  # this here, but generally we wouldn't want to.\n",
        "  shape = int_shape(conv2)\n",
        "  dense2 = Dense(shape[1] * shape[2] * shape[3])(decoder_inputs)\n",
        "  reshaped = Reshape((shape[1], shape[2], shape[3]))(dense2)\n",
        "\n",
        "  # We use Transposed Conv2D layers to undo the convolutions\n",
        "  tconv1 = Conv2DTranspose(filters=64,\n",
        "                          kernel_size=(3,3),\n",
        "                          strides=2,\n",
        "                          activation='relu',\n",
        "                          padding='same')(reshaped)\n",
        "  tconv2 = Conv2DTranspose(filters=32,\n",
        "                          kernel_size=(3,3),\n",
        "                          strides=2,\n",
        "                          activation='relu',\n",
        "                          padding='same')(tconv1)\n",
        "  # Our final Transposed Conv2D has only one filter:\n",
        "  # We are recreating the image matrix (almost)\n",
        "  tconv3 = Conv2DTranspose(filters=1,\n",
        "                          kernel_size=(3,3),\n",
        "                          padding='same')(tconv2)\n",
        "  # We pass this final matrix through a sigmoid and are done\n",
        "  decoder_outputs = Activation('sigmoid', name='Decoder_Output')(tconv3)\n",
        "\n",
        "  # Instantiate Decoder Model\n",
        "  decoder = Model(decoder_inputs, decoder_outputs)\n",
        "\n",
        "  # Create the Autoencoder Model\n",
        "  # This takes as input the encoder input\n",
        "  # And as output the decoder processing of the encoder output\n",
        "  autoencoder = Model(encoder_inputs, decoder(encoder(encoder_inputs)))\n",
        "\n",
        "  return encoder,decoder,autoencoder"
      ],
      "execution_count": 41,
      "outputs": []
    },
    {
      "cell_type": "markdown",
      "metadata": {
        "id": "0O9w9mcYEllO"
      },
      "source": [
        "Let's get our models."
      ]
    },
    {
      "cell_type": "code",
      "metadata": {
        "id": "30uKupPN4MnF"
      },
      "source": [
        "encoder,decoder,autoencoder=get_models()"
      ],
      "execution_count": 42,
      "outputs": []
    },
    {
      "cell_type": "markdown",
      "metadata": {
        "id": "j1fFvSn-EnlM"
      },
      "source": [
        "We will be training and using the autoencoder model. So we need to compile it with a chosen optimizer. "
      ]
    },
    {
      "cell_type": "code",
      "metadata": {
        "id": "dct6OuF_4JXT"
      },
      "source": [
        "autoencoder.compile(loss='mse', optimizer='adam')"
      ],
      "execution_count": 43,
      "outputs": []
    },
    {
      "cell_type": "markdown",
      "metadata": {
        "id": "BgK9-gxd7Pdk"
      },
      "source": [
        "Now we can train our autoencoder. We will use the test data as validation data."
      ]
    },
    {
      "cell_type": "code",
      "metadata": {
        "id": "kwc632A0bD6U"
      },
      "source": [
        "earlyStop = EarlyStopping(monitor='val_loss',patience=5,verbose=1,restore_best_weights=True)"
      ],
      "execution_count": 44,
      "outputs": []
    },
    {
      "cell_type": "code",
      "metadata": {
        "id": "uaAnEOih5aS1",
        "colab": {
          "base_uri": "https://localhost:8080/"
        },
        "outputId": "87a8911b-8745-4a3c-ce81-9408b8ffbba6"
      },
      "source": [
        "# Train the autoencoder\n",
        "# Note the target (Y) variables are just the original images\n",
        "# and the input (X) variables are the noisy equivalents.\n",
        "history=autoencoder.fit(x_train_noisy,\n",
        "                        x_train,\n",
        "                        validation_data=(x_test_noisy, x_test),\n",
        "                        epochs=100,\n",
        "                        batch_size=1000,\n",
        "                        callbacks=earlyStop)"
      ],
      "execution_count": 45,
      "outputs": [
        {
          "output_type": "stream",
          "text": [
            "Epoch 1/100\n",
            "60/60 [==============================] - 3s 45ms/step - loss: 0.1276 - val_loss: 0.0680\n",
            "Epoch 2/100\n",
            "60/60 [==============================] - 3s 42ms/step - loss: 0.0678 - val_loss: 0.0668\n",
            "Epoch 3/100\n",
            "60/60 [==============================] - 3s 43ms/step - loss: 0.0656 - val_loss: 0.0609\n",
            "Epoch 4/100\n",
            "60/60 [==============================] - 3s 42ms/step - loss: 0.0588 - val_loss: 0.0479\n",
            "Epoch 5/100\n",
            "60/60 [==============================] - 3s 42ms/step - loss: 0.0439 - val_loss: 0.0367\n",
            "Epoch 6/100\n",
            "60/60 [==============================] - 3s 42ms/step - loss: 0.0352 - val_loss: 0.0310\n",
            "Epoch 7/100\n",
            "60/60 [==============================] - 2s 42ms/step - loss: 0.0300 - val_loss: 0.0269\n",
            "Epoch 8/100\n",
            "60/60 [==============================] - 2s 42ms/step - loss: 0.0260 - val_loss: 0.0243\n",
            "Epoch 9/100\n",
            "60/60 [==============================] - 3s 42ms/step - loss: 0.0239 - val_loss: 0.0227\n",
            "Epoch 10/100\n",
            "60/60 [==============================] - 3s 42ms/step - loss: 0.0223 - val_loss: 0.0214\n",
            "Epoch 11/100\n",
            "60/60 [==============================] - 3s 43ms/step - loss: 0.0211 - val_loss: 0.0202\n",
            "Epoch 12/100\n",
            "60/60 [==============================] - 3s 43ms/step - loss: 0.0200 - val_loss: 0.0193\n",
            "Epoch 13/100\n",
            "60/60 [==============================] - 3s 43ms/step - loss: 0.0191 - val_loss: 0.0185\n",
            "Epoch 14/100\n",
            "60/60 [==============================] - 3s 42ms/step - loss: 0.0183 - val_loss: 0.0178\n",
            "Epoch 15/100\n",
            "60/60 [==============================] - 3s 43ms/step - loss: 0.0177 - val_loss: 0.0177\n",
            "Epoch 16/100\n",
            "60/60 [==============================] - 3s 43ms/step - loss: 0.0173 - val_loss: 0.0169\n",
            "Epoch 17/100\n",
            "60/60 [==============================] - 3s 43ms/step - loss: 0.0168 - val_loss: 0.0164\n",
            "Epoch 18/100\n",
            "60/60 [==============================] - 3s 42ms/step - loss: 0.0163 - val_loss: 0.0161\n",
            "Epoch 19/100\n",
            "60/60 [==============================] - 3s 42ms/step - loss: 0.0160 - val_loss: 0.0158\n",
            "Epoch 20/100\n",
            "60/60 [==============================] - 3s 43ms/step - loss: 0.0156 - val_loss: 0.0155\n",
            "Epoch 21/100\n",
            "60/60 [==============================] - 3s 43ms/step - loss: 0.0154 - val_loss: 0.0153\n",
            "Epoch 22/100\n",
            "60/60 [==============================] - 3s 43ms/step - loss: 0.0150 - val_loss: 0.0150\n",
            "Epoch 23/100\n",
            "60/60 [==============================] - 3s 43ms/step - loss: 0.0149 - val_loss: 0.0147\n",
            "Epoch 24/100\n",
            "60/60 [==============================] - 3s 43ms/step - loss: 0.0146 - val_loss: 0.0148\n",
            "Epoch 25/100\n",
            "60/60 [==============================] - 3s 43ms/step - loss: 0.0144 - val_loss: 0.0145\n",
            "Epoch 26/100\n",
            "60/60 [==============================] - 3s 43ms/step - loss: 0.0142 - val_loss: 0.0145\n",
            "Epoch 27/100\n",
            "60/60 [==============================] - 3s 43ms/step - loss: 0.0142 - val_loss: 0.0141\n",
            "Epoch 28/100\n",
            "60/60 [==============================] - 3s 43ms/step - loss: 0.0139 - val_loss: 0.0143\n",
            "Epoch 29/100\n",
            "60/60 [==============================] - 3s 43ms/step - loss: 0.0137 - val_loss: 0.0138\n",
            "Epoch 30/100\n",
            "60/60 [==============================] - 3s 43ms/step - loss: 0.0136 - val_loss: 0.0137\n",
            "Epoch 31/100\n",
            "60/60 [==============================] - 3s 43ms/step - loss: 0.0134 - val_loss: 0.0136\n",
            "Epoch 32/100\n",
            "60/60 [==============================] - 3s 43ms/step - loss: 0.0134 - val_loss: 0.0135\n",
            "Epoch 33/100\n",
            "60/60 [==============================] - 3s 42ms/step - loss: 0.0132 - val_loss: 0.0133\n",
            "Epoch 34/100\n",
            "60/60 [==============================] - 3s 43ms/step - loss: 0.0131 - val_loss: 0.0132\n",
            "Epoch 35/100\n",
            "60/60 [==============================] - 3s 43ms/step - loss: 0.0130 - val_loss: 0.0131\n",
            "Epoch 36/100\n",
            "60/60 [==============================] - 3s 43ms/step - loss: 0.0129 - val_loss: 0.0131\n",
            "Epoch 37/100\n",
            "60/60 [==============================] - 3s 43ms/step - loss: 0.0127 - val_loss: 0.0129\n",
            "Epoch 38/100\n",
            "60/60 [==============================] - 3s 42ms/step - loss: 0.0127 - val_loss: 0.0129\n",
            "Epoch 39/100\n",
            "60/60 [==============================] - 3s 42ms/step - loss: 0.0127 - val_loss: 0.0127\n",
            "Epoch 40/100\n",
            "60/60 [==============================] - 3s 42ms/step - loss: 0.0125 - val_loss: 0.0127\n",
            "Epoch 41/100\n",
            "60/60 [==============================] - 3s 42ms/step - loss: 0.0125 - val_loss: 0.0126\n",
            "Epoch 42/100\n",
            "60/60 [==============================] - 3s 42ms/step - loss: 0.0124 - val_loss: 0.0126\n",
            "Epoch 43/100\n",
            "60/60 [==============================] - 3s 42ms/step - loss: 0.0123 - val_loss: 0.0124\n",
            "Epoch 44/100\n",
            "60/60 [==============================] - 3s 43ms/step - loss: 0.0122 - val_loss: 0.0127\n",
            "Epoch 45/100\n",
            "60/60 [==============================] - 3s 42ms/step - loss: 0.0122 - val_loss: 0.0124\n",
            "Epoch 46/100\n",
            "60/60 [==============================] - 3s 43ms/step - loss: 0.0121 - val_loss: 0.0123\n",
            "Epoch 47/100\n",
            "60/60 [==============================] - 3s 43ms/step - loss: 0.0120 - val_loss: 0.0124\n",
            "Epoch 48/100\n",
            "60/60 [==============================] - 3s 42ms/step - loss: 0.0120 - val_loss: 0.0121\n",
            "Epoch 49/100\n",
            "60/60 [==============================] - 3s 42ms/step - loss: 0.0119 - val_loss: 0.0122\n",
            "Epoch 50/100\n",
            "60/60 [==============================] - 3s 43ms/step - loss: 0.0118 - val_loss: 0.0121\n",
            "Epoch 51/100\n",
            "60/60 [==============================] - 3s 42ms/step - loss: 0.0118 - val_loss: 0.0121\n",
            "Epoch 52/100\n",
            "60/60 [==============================] - 3s 42ms/step - loss: 0.0118 - val_loss: 0.0120\n",
            "Epoch 53/100\n",
            "60/60 [==============================] - 3s 42ms/step - loss: 0.0117 - val_loss: 0.0121\n",
            "Epoch 54/100\n",
            "60/60 [==============================] - 3s 43ms/step - loss: 0.0117 - val_loss: 0.0120\n",
            "Epoch 55/100\n",
            "60/60 [==============================] - 3s 43ms/step - loss: 0.0116 - val_loss: 0.0119\n",
            "Epoch 56/100\n",
            "60/60 [==============================] - 3s 43ms/step - loss: 0.0115 - val_loss: 0.0118\n",
            "Epoch 57/100\n",
            "60/60 [==============================] - 3s 43ms/step - loss: 0.0115 - val_loss: 0.0119\n",
            "Epoch 58/100\n",
            "60/60 [==============================] - 3s 43ms/step - loss: 0.0115 - val_loss: 0.0119\n",
            "Epoch 59/100\n",
            "60/60 [==============================] - 3s 43ms/step - loss: 0.0114 - val_loss: 0.0117\n",
            "Epoch 60/100\n",
            "60/60 [==============================] - 3s 42ms/step - loss: 0.0114 - val_loss: 0.0116\n",
            "Epoch 61/100\n",
            "60/60 [==============================] - 3s 42ms/step - loss: 0.0113 - val_loss: 0.0117\n",
            "Epoch 62/100\n",
            "60/60 [==============================] - 3s 43ms/step - loss: 0.0113 - val_loss: 0.0118\n",
            "Epoch 63/100\n",
            "60/60 [==============================] - 3s 42ms/step - loss: 0.0113 - val_loss: 0.0115\n",
            "Epoch 64/100\n",
            "60/60 [==============================] - 3s 42ms/step - loss: 0.0112 - val_loss: 0.0115\n",
            "Epoch 65/100\n",
            "60/60 [==============================] - 3s 42ms/step - loss: 0.0112 - val_loss: 0.0115\n",
            "Epoch 66/100\n",
            "60/60 [==============================] - 3s 42ms/step - loss: 0.0111 - val_loss: 0.0115\n",
            "Epoch 67/100\n",
            "60/60 [==============================] - 3s 42ms/step - loss: 0.0112 - val_loss: 0.0116\n",
            "Epoch 68/100\n",
            "60/60 [==============================] - 3s 42ms/step - loss: 0.0111 - val_loss: 0.0114\n",
            "Epoch 69/100\n",
            "60/60 [==============================] - 3s 42ms/step - loss: 0.0110 - val_loss: 0.0115\n",
            "Epoch 70/100\n",
            "60/60 [==============================] - 3s 43ms/step - loss: 0.0110 - val_loss: 0.0113\n",
            "Epoch 71/100\n",
            "60/60 [==============================] - 3s 42ms/step - loss: 0.0109 - val_loss: 0.0113\n",
            "Epoch 72/100\n",
            "60/60 [==============================] - 3s 42ms/step - loss: 0.0110 - val_loss: 0.0114\n",
            "Epoch 73/100\n",
            "60/60 [==============================] - 3s 43ms/step - loss: 0.0109 - val_loss: 0.0113\n",
            "Epoch 74/100\n",
            "60/60 [==============================] - 3s 42ms/step - loss: 0.0109 - val_loss: 0.0112\n",
            "Epoch 75/100\n",
            "60/60 [==============================] - 3s 43ms/step - loss: 0.0108 - val_loss: 0.0113\n",
            "Epoch 76/100\n",
            "60/60 [==============================] - 3s 42ms/step - loss: 0.0108 - val_loss: 0.0115\n",
            "Epoch 77/100\n",
            "60/60 [==============================] - 3s 42ms/step - loss: 0.0109 - val_loss: 0.0112\n",
            "Epoch 78/100\n",
            "60/60 [==============================] - 3s 42ms/step - loss: 0.0107 - val_loss: 0.0112\n",
            "Epoch 79/100\n",
            "60/60 [==============================] - 3s 43ms/step - loss: 0.0107 - val_loss: 0.0111\n",
            "Epoch 80/100\n",
            "60/60 [==============================] - 3s 43ms/step - loss: 0.0107 - val_loss: 0.0111\n",
            "Epoch 81/100\n",
            "60/60 [==============================] - 3s 42ms/step - loss: 0.0107 - val_loss: 0.0112\n",
            "Epoch 82/100\n",
            "60/60 [==============================] - 3s 42ms/step - loss: 0.0107 - val_loss: 0.0110\n",
            "Epoch 83/100\n",
            "60/60 [==============================] - 3s 42ms/step - loss: 0.0106 - val_loss: 0.0111\n",
            "Epoch 84/100\n",
            "60/60 [==============================] - 3s 42ms/step - loss: 0.0106 - val_loss: 0.0111\n",
            "Epoch 85/100\n",
            "60/60 [==============================] - 3s 42ms/step - loss: 0.0106 - val_loss: 0.0110\n",
            "Epoch 86/100\n",
            "60/60 [==============================] - 3s 42ms/step - loss: 0.0105 - val_loss: 0.0110\n",
            "Epoch 87/100\n",
            "60/60 [==============================] - 3s 42ms/step - loss: 0.0105 - val_loss: 0.0110\n",
            "Epoch 88/100\n",
            "60/60 [==============================] - 3s 42ms/step - loss: 0.0105 - val_loss: 0.0110\n",
            "Epoch 89/100\n",
            "60/60 [==============================] - 3s 42ms/step - loss: 0.0105 - val_loss: 0.0109\n",
            "Epoch 90/100\n",
            "60/60 [==============================] - 3s 42ms/step - loss: 0.0104 - val_loss: 0.0109\n",
            "Epoch 91/100\n",
            "60/60 [==============================] - 3s 43ms/step - loss: 0.0105 - val_loss: 0.0109\n",
            "Epoch 92/100\n",
            "60/60 [==============================] - 3s 42ms/step - loss: 0.0104 - val_loss: 0.0108\n",
            "Epoch 93/100\n",
            "60/60 [==============================] - 3s 42ms/step - loss: 0.0104 - val_loss: 0.0109\n",
            "Epoch 94/100\n",
            "60/60 [==============================] - 3s 42ms/step - loss: 0.0103 - val_loss: 0.0109\n",
            "Epoch 95/100\n",
            "60/60 [==============================] - 3s 42ms/step - loss: 0.0104 - val_loss: 0.0108\n",
            "Epoch 96/100\n",
            "60/60 [==============================] - 3s 42ms/step - loss: 0.0103 - val_loss: 0.0108\n",
            "Epoch 97/100\n",
            "60/60 [==============================] - 3s 42ms/step - loss: 0.0103 - val_loss: 0.0107\n",
            "Epoch 98/100\n",
            "60/60 [==============================] - 3s 42ms/step - loss: 0.0103 - val_loss: 0.0108\n",
            "Epoch 99/100\n",
            "60/60 [==============================] - 3s 42ms/step - loss: 0.0102 - val_loss: 0.0108\n",
            "Epoch 100/100\n",
            "60/60 [==============================] - 3s 42ms/step - loss: 0.0103 - val_loss: 0.0107\n"
          ],
          "name": "stdout"
        }
      ]
    },
    {
      "cell_type": "markdown",
      "metadata": {
        "id": "yK42nTxT7k16"
      },
      "source": [
        "You can graph the training history here is you like. It is left as an exercise."
      ]
    },
    {
      "cell_type": "code",
      "metadata": {
        "id": "mTHX8n7Z7ree"
      },
      "source": [
        "# Graph the training history if desired\n",
        "\n",
        "def plot_training_history(history):\n",
        "    # plt.plot(history.history['acc'])\n",
        "    # plt.plot(history.history['val_acc'])\n",
        "    plt.plot(history.history['loss'])\n",
        "    plt.plot(history.history['val_loss'])\n",
        "    plt.title('Model accuracy and loss')\n",
        "    plt.xlabel('Epoch')\n",
        "    plt.legend(['Accuracy','Validation Accuracy', 'Loss',\n",
        "                'Validation Loss'], loc='upper right')\n",
        "    plt.show()"
      ],
      "execution_count": 50,
      "outputs": []
    },
    {
      "cell_type": "code",
      "metadata": {
        "id": "McQVX2a2eTzC",
        "outputId": "3e82a106-e979-4305-c83c-1c87d8e889f5",
        "colab": {
          "base_uri": "https://localhost:8080/",
          "height": 295
        }
      },
      "source": [
        "plot_training_history(history)"
      ],
      "execution_count": 51,
      "outputs": [
        {
          "output_type": "display_data",
          "data": {
            "image/png": "[encoded data removed]",
            "text/plain": [
              "<Figure size 432x288 with 1 Axes>"
            ]
          },
          "metadata": {
            "tags": [],
            "needs_background": "light"
          }
        }
      ]
    },
    {
      "cell_type": "markdown",
      "metadata": {
        "id": "uGGx4I4V7qD5"
      },
      "source": [
        "Now we have a trained denoising autoencoder model, what can we do with it?\n",
        "\n",
        "We can denoise noisy data of this type - useful in the real world if data is sometimes noisy or corrupted. In our case we can denoise noisy handwritten digits. Let's have a look at an example. First we will create a (quick and rough) function to show the noisy image and compare it with the denoised version."
      ]
    },
    {
      "cell_type": "code",
      "metadata": {
        "id": "K7Dlnjy28Kf9"
      },
      "source": [
        "def denoiser_example(model,noisy_image,true_image):\n",
        "  denoised_image = model.predict(np.expand_dims(noisy_image, axis=0))\n",
        "  #plt.figure(figsize=(10,10))\n",
        "  plt.imshow(np.reshape(noisy_image,(28,28)), cmap='gray')\n",
        "  plt.xlabel(\"Noisy Image\")\n",
        "  plt.show()\n",
        "  plt.imshow(np.reshape(denoised_image,(28,28)), cmap='gray')\n",
        "  plt.xlabel(\"Denoised Image\")\n",
        "  plt.show()\n",
        "  plt.imshow(np.reshape(true_image,(28,28)), cmap='gray')\n",
        "  plt.xlabel(\"True Image\")\n",
        "  plt.show()\n",
        "  "
      ],
      "execution_count": 46,
      "outputs": []
    },
    {
      "cell_type": "markdown",
      "metadata": {
        "id": "hkoGEi1YJJQo"
      },
      "source": [
        "Now we can call that function with a random image from the test/validation data."
      ]
    },
    {
      "cell_type": "code",
      "metadata": {
        "id": "Tji7eZ-DJDHl",
        "colab": {
          "base_uri": "https://localhost:8080/",
          "height": 803
        },
        "outputId": "a1507e68-98f6-4d63-df10-0565ec7b8e07"
      },
      "source": [
        "indect = np.random.randint(0,len(x_test_noisy))\n",
        "denoiser_example(autoencoder,x_test_noisy[indect],x_test[indect])"
      ],
      "execution_count": 47,
      "outputs": [
        {
          "output_type": "display_data",
          "data": {
            "image/png": "[encoded data removed]",
            "text/plain": [
              "<Figure size 432x288 with 1 Axes>"
            ]
          },
          "metadata": {
            "tags": [],
            "needs_background": "light"
          }
        },
        {
          "output_type": "display_data",
          "data": {
            "image/png": "[encoded data removed]",
            "text/plain": [
              "<Figure size 432x288 with 1 Axes>"
            ]
          },
          "metadata": {
            "tags": [],
            "needs_background": "light"
          }
        },
        {
          "output_type": "display_data",
          "data": {
            "image/png": "[encoded data removed]",
            "text/plain": [
              "<Figure size 432x288 with 1 Axes>"
            ]
          },
          "metadata": {
            "tags": [],
            "needs_background": "light"
          }
        }
      ]
    }
  ]
}