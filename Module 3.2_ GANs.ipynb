{
  "nbformat": 4,
  "nbformat_minor": 0,
  "metadata": {
    "kernelspec": {
      "display_name": "Python 3",
      "language": "python",
      "name": "python3"
    },
    "language_info": {
      "codemirror_mode": {
        "name": "ipython",
        "version": 3
      },
      "file_extension": ".py",
      "mimetype": "text/x-python",
      "name": "python",
      "nbconvert_exporter": "python",
      "pygments_lexer": "ipython3",
      "version": "3.6.6"
    },
    "colab": {
      "name": "GANs.ipynb",
      "provenance": []
    },
    "accelerator": "GPU"
  },
  "cells": [
    {
      "cell_type": "markdown",
      "metadata": {
        "id": "k41yObzZqnZR"
      },
      "source": [
        "##GANs for Synthetic Data Generation\n",
        "\n",
        "We implement a Generative Adversarial Network (GAN) in the Keras functional API. In this module we will pay attention to:\n",
        "\n",
        "- Implementing the GAN architecture in Keras.\n",
        "- Training our model.\n",
        "- Using our model to generate synthetic data.\n",
        "\n",
        "Note that we will not spend time tuning hyper-parameters: The purpose is to show how different techniques can be implemented in Keras, not to solve particular data science problems as optimally as possible. Obviously, most techniques include hyper-parameters that need to be tuned for optimal performance."
      ]
    },
    {
      "cell_type": "code",
      "metadata": {
        "colab": {
          "base_uri": "https://localhost:8080/"
        },
        "id": "G85xmpAOzgZL",
        "outputId": "2de9d650-d61c-4054-de3c-b377afb96be8"
      },
      "source": [
        "gpu_info = !nvidia-smi\n",
        "gpu_info = '\\n'.join(gpu_info)\n",
        "if gpu_info.find('failed') >= 0:\n",
        "  print('Select the Runtime > \"Change runtime type\" menu to enable a GPU accelerator, ')\n",
        "  print('and then re-execute this cell.')\n",
        "else:\n",
        "  print(gpu_info)"
      ],
      "execution_count": 1,
      "outputs": [
        {
          "output_type": "stream",
          "text": [
            "Sat May  8 01:52:41 2021       \n",
            "+-----------------------------------------------------------------------------+\n",
            "| NVIDIA-SMI 465.19.01    Driver Version: 460.32.03    CUDA Version: 11.2     |\n",
            "|-------------------------------+----------------------+----------------------+\n",
            "| GPU  Name        Persistence-M| Bus-Id        Disp.A | Volatile Uncorr. ECC |\n",
            "| Fan  Temp  Perf  Pwr:Usage/Cap|         Memory-Usage | GPU-Util  Compute M. |\n",
            "|                               |                      |               MIG M. |\n",
            "|===============================+======================+======================|\n",
            "|   0  Tesla P100-PCIE...  Off  | 00000000:00:04.0 Off |                    0 |\n",
            "| N/A   40C    P0    27W / 250W |      0MiB / 16280MiB |      0%      Default |\n",
            "|                               |                      |                  N/A |\n",
            "+-------------------------------+----------------------+----------------------+\n",
            "                                                                               \n",
            "+-----------------------------------------------------------------------------+\n",
            "| Processes:                                                                  |\n",
            "|  GPU   GI   CI        PID   Type   Process name                  GPU Memory |\n",
            "|        ID   ID                                                   Usage      |\n",
            "|=============================================================================|\n",
            "|  No running processes found                                                 |\n",
            "+-----------------------------------------------------------------------------+\n"
          ],
          "name": "stdout"
        }
      ]
    },
    {
      "cell_type": "markdown",
      "metadata": {
        "id": "CNgL43-KrJgf"
      },
      "source": [
        "We import required libraries."
      ]
    },
    {
      "cell_type": "code",
      "metadata": {
        "id": "KVH7UR5EqnZU"
      },
      "source": [
        "from keras.datasets.mnist import load_data\n",
        "from keras import Model\n",
        "from keras.models import Sequential\n",
        "from keras.optimizers import Adam\n",
        "from keras.layers import Input,Dense,Conv2D,Flatten,Dropout,LeakyReLU,Reshape,Conv2DTranspose\n",
        "from keras.utils.vis_utils import model_to_dot\n",
        "from statistics import mean\n",
        "\n",
        "from matplotlib import pyplot\n",
        "\n",
        "import numpy as np\n",
        "import numpy.random as rng\n"
      ],
      "execution_count": 2,
      "outputs": []
    },
    {
      "cell_type": "markdown",
      "metadata": {
        "id": "7dMkvBeRrZpd"
      },
      "source": [
        "As in the denoising auto-encoder module, we will be working with the MNIST data. These are 28x28 greyscale images of handwritten digits (0-9). The classes are the digit. \n",
        "\n",
        "This data is included in Keras.datasets library, so it is easy to load. We will expand the image dimension so that we have a single channel (as it is greyscale we have only one channel), and normalize the pixel values to real numbers between 0 and 1.\n",
        "\n",
        "We will only work with the training data, and so will create a function that pre-processes and returns that. If you want to look at the data, examine the code in module 2.4, as this provides functions for viewing the MNIST images with their class labels."
      ]
    },
    {
      "cell_type": "code",
      "metadata": {
        "id": "5f5XCjFuqnZa"
      },
      "source": [
        "def get_data ():\n",
        "  # load the images into memory\n",
        "  (trainX, trainy), (testX, testy) = load_data()\n",
        "  # We will only really work with the trainX data.\n",
        "  # Let's expand it to add channel dimension\n",
        "  X = np.expand_dims(trainX, axis=-1)\n",
        "  # Convert from unsigned ints to floats and scale to between 0 and 1.\n",
        "  X = X.astype('float32')\n",
        "  X = X / 255.0\n",
        "  return X"
      ],
      "execution_count": 3,
      "outputs": []
    },
    {
      "cell_type": "markdown",
      "metadata": {
        "id": "8xWZXMXBs1l4"
      },
      "source": [
        "We call our get data function."
      ]
    },
    {
      "cell_type": "code",
      "metadata": {
        "id": "MRFxVACts367",
        "colab": {
          "base_uri": "https://localhost:8080/"
        },
        "outputId": "46d6ca62-80e6-44fe-e4b4-50f83036fc8f"
      },
      "source": [
        "X=get_data()"
      ],
      "execution_count": 4,
      "outputs": [
        {
          "output_type": "stream",
          "text": [
            "Downloading data from https://storage.googleapis.com/tensorflow/tf-keras-datasets/mnist.npz\n",
            "11493376/11490434 [==============================] - 0s 0us/step\n"
          ],
          "name": "stdout"
        }
      ]
    },
    {
      "cell_type": "markdown",
      "metadata": {
        "id": "iRzl8kQas8bd"
      },
      "source": [
        "We want our discriminator to train on batches of real and fake images, learning to distinguish between the two. So we need a function to grab a set of real images from our MNIST image data."
      ]
    },
    {
      "cell_type": "code",
      "metadata": {
        "id": "b1qqqMVbqnZg"
      },
      "source": [
        "# select real samples\n",
        "def select_real_images(dataset, n_samples):\n",
        "    # choose random instances\n",
        "    indices = rng.randint(0, dataset.shape[0], n_samples)\n",
        "    # retrieve selected images\n",
        "    X = dataset[indices]\n",
        "    # generate 'real' class labels (1)\n",
        "    y = np.ones((n_samples, 1))\n",
        "    return X, y"
      ],
      "execution_count": 5,
      "outputs": []
    },
    {
      "cell_type": "markdown",
      "metadata": {
        "id": "tJz1IZLPtQRf"
      },
      "source": [
        "Now let us define a function to create our discriminator model. We will also compile it within the function, so if you want to play around with the optimizer change the code in here."
      ]
    },
    {
      "cell_type": "code",
      "metadata": {
        "id": "0D9l2VbrqnZi"
      },
      "source": [
        "def get_discriminator(in_shape=(28,28,1)):\n",
        "  # Define Model\n",
        "  # This is a basic binary classification CNN\n",
        "  inputs=Input(in_shape)\n",
        "  \n",
        "  conv1=Conv2D(128, 5, strides=2, padding='same')(inputs)\n",
        "  leak1=LeakyReLU(alpha=.2)(conv1)\n",
        "  drop1=Dropout(.4)(leak1)\n",
        "  \n",
        "  conv2=Conv2D(64, 5, strides=2, padding='same')(drop1)\n",
        "  leak2=LeakyReLU(alpha=.2)(conv2)\n",
        "  drop2=Dropout(.4)(leak2)\n",
        "  \n",
        "  flat=Flatten()(drop2)\n",
        "  outputs=Dense(1,activation='sigmoid')(flat)\n",
        "  \n",
        "  # Create Model\n",
        "  model=Model(inputs=inputs,outputs=outputs)\n",
        "  \n",
        "  # Compile model\n",
        "  opt = Adam(lr=0.0002, beta_1=0.5)\n",
        "  model.compile(loss='binary_crossentropy', optimizer=opt, metrics=['accuracy'])\n",
        "  return model"
      ],
      "execution_count": 6,
      "outputs": []
    },
    {
      "cell_type": "markdown",
      "metadata": {
        "id": "sPd9LvFcxjkQ"
      },
      "source": [
        "If you wish, run the following code block to create an instance of the discriminator model in order to view a summary.\n",
        "\n",
        "Note we will create the discriminator instance we use for the problem in a later code block."
      ]
    },
    {
      "cell_type": "code",
      "metadata": {
        "id": "PRHyHrftqnZk",
        "colab": {
          "base_uri": "https://localhost:8080/"
        },
        "outputId": "849c9fd2-1cd0-44af-b54b-2a8a684f471e"
      },
      "source": [
        "# Get the discriminator\n",
        "discriminator = get_discriminator()\n",
        "# View a summary of the discriminator\n",
        "discriminator.summary()"
      ],
      "execution_count": 7,
      "outputs": [
        {
          "output_type": "stream",
          "text": [
            "Model: \"model\"\n",
            "_________________________________________________________________\n",
            "Layer (type)                 Output Shape              Param #   \n",
            "=================================================================\n",
            "input_1 (InputLayer)         [(None, 28, 28, 1)]       0         \n",
            "_________________________________________________________________\n",
            "conv2d (Conv2D)              (None, 14, 14, 128)       3328      \n",
            "_________________________________________________________________\n",
            "leaky_re_lu (LeakyReLU)      (None, 14, 14, 128)       0         \n",
            "_________________________________________________________________\n",
            "dropout (Dropout)            (None, 14, 14, 128)       0         \n",
            "_________________________________________________________________\n",
            "conv2d_1 (Conv2D)            (None, 7, 7, 64)          204864    \n",
            "_________________________________________________________________\n",
            "leaky_re_lu_1 (LeakyReLU)    (None, 7, 7, 64)          0         \n",
            "_________________________________________________________________\n",
            "dropout_1 (Dropout)          (None, 7, 7, 64)          0         \n",
            "_________________________________________________________________\n",
            "flatten (Flatten)            (None, 3136)              0         \n",
            "_________________________________________________________________\n",
            "dense (Dense)                (None, 1)                 3137      \n",
            "=================================================================\n",
            "Total params: 211,329\n",
            "Trainable params: 211,329\n",
            "Non-trainable params: 0\n",
            "_________________________________________________________________\n"
          ],
          "name": "stdout"
        }
      ]
    },
    {
      "cell_type": "code",
      "metadata": {
        "id": "FZH_OmoaqnZn"
      },
      "source": [
        "def get_generator(noise_dim=100):\n",
        "    # Define the generator model\n",
        "    inputs=Input((noise_dim,))\n",
        "    \n",
        "    # Create a basis for 7x7 image\n",
        "    # We are using the noise to generate 128 high level 'feature maps' in a 7x7 space\n",
        "    n = 128 * 7 * 7\n",
        "    dense = Dense(n)(inputs)\n",
        "    leak1 = LeakyReLU(alpha=0.2)(dense)\n",
        "    reshape = Reshape((7, 7, 128))(leak1)\n",
        "    \n",
        "    # Now we extract lower level features...\n",
        "    # Upsample to 14x14\n",
        "    conv_tran1 = Conv2DTranspose(128, (3,3), strides=(2,2), padding='same')(reshape)\n",
        "    leak2=LeakyReLU(alpha=0.2)(conv_tran1)\n",
        "    \n",
        "    # Now we extract even lower level features...\n",
        "    # Upsample to 28x28\n",
        "    conv_tran2 = Conv2DTranspose(64, (3,3), strides=(2,2), padding='same')(leak2)\n",
        "    leak3 = LeakyReLU(alpha=0.2)(conv_tran2)\n",
        "    \n",
        "    # Finally we put togeather our pixel values for the synthetic image\n",
        "    outputs = Conv2D(1, (7,7), activation='sigmoid', padding='same')(leak3)\n",
        "    \n",
        "    # Create the model and return it\n",
        "    model=Model(inputs=inputs,outputs=outputs)\n",
        "    return model"
      ],
      "execution_count": 8,
      "outputs": []
    },
    {
      "cell_type": "markdown",
      "metadata": {
        "id": "RfKSwEBBxIgM"
      },
      "source": [
        "If you wish, run the following code block to create an instance of the generator model in order to view a summary. You can change the dimension of the noise vector if you like.\n",
        "\n",
        "Note we will create the generator instance we use for the problem in a later code block."
      ]
    },
    {
      "cell_type": "code",
      "metadata": {
        "id": "t7sxLrevqnZp",
        "colab": {
          "base_uri": "https://localhost:8080/"
        },
        "outputId": "fc02bbaa-01c4-421d-a83a-444030293bf8"
      },
      "source": [
        "# Specify the dimension of the noise vector\n",
        "noise_dim = 100\n",
        "# Get the generator model\n",
        "generator = get_generator(noise_dim)\n",
        "# Summarize the model\n",
        "generator.summary()"
      ],
      "execution_count": 9,
      "outputs": [
        {
          "output_type": "stream",
          "text": [
            "Model: \"model_1\"\n",
            "_________________________________________________________________\n",
            "Layer (type)                 Output Shape              Param #   \n",
            "=================================================================\n",
            "input_2 (InputLayer)         [(None, 100)]             0         \n",
            "_________________________________________________________________\n",
            "dense_1 (Dense)              (None, 6272)              633472    \n",
            "_________________________________________________________________\n",
            "leaky_re_lu_2 (LeakyReLU)    (None, 6272)              0         \n",
            "_________________________________________________________________\n",
            "reshape (Reshape)            (None, 7, 7, 128)         0         \n",
            "_________________________________________________________________\n",
            "conv2d_transpose (Conv2DTran (None, 14, 14, 128)       147584    \n",
            "_________________________________________________________________\n",
            "leaky_re_lu_3 (LeakyReLU)    (None, 14, 14, 128)       0         \n",
            "_________________________________________________________________\n",
            "conv2d_transpose_1 (Conv2DTr (None, 28, 28, 64)        73792     \n",
            "_________________________________________________________________\n",
            "leaky_re_lu_4 (LeakyReLU)    (None, 28, 28, 64)        0         \n",
            "_________________________________________________________________\n",
            "conv2d_2 (Conv2D)            (None, 28, 28, 1)         3137      \n",
            "=================================================================\n",
            "Total params: 857,985\n",
            "Trainable params: 857,985\n",
            "Non-trainable params: 0\n",
            "_________________________________________________________________\n"
          ],
          "name": "stdout"
        }
      ]
    },
    {
      "cell_type": "markdown",
      "metadata": {
        "id": "zU3AIrmCqnZu"
      },
      "source": [
        "Obviously we want to generate this noise from something simple so that we can sample from the same distribution later. So we use simple independent Gaussian noise.\n",
        "\n",
        "We create a function that will generate as many of these noise vectors as we wish."
      ]
    },
    {
      "cell_type": "code",
      "metadata": {
        "id": "e833MKtMqnZv"
      },
      "source": [
        "# Generate independent Gaussian noise as input for the generator\n",
        "def generate_input_noise(noise_dim, num_vectors):\n",
        "    # Generate independent Gaussian noise\n",
        "    noise_input = rng.standard_normal(noise_dim * num_vectors)\n",
        "    # Reshape into a 2d array\n",
        "    noise_input = noise_input.reshape(num_vectors, noise_dim)\n",
        "    return noise_input"
      ],
      "execution_count": 10,
      "outputs": []
    },
    {
      "cell_type": "markdown",
      "metadata": {
        "id": "yfkn3IuQyv4U"
      },
      "source": [
        "Now we create a function to generate fake images from the noise vectors using the generator. We will also get this function to return labels indicating that the images are fake (we represent this by 0)."
      ]
    },
    {
      "cell_type": "code",
      "metadata": {
        "id": "u-HS7E0DyrzR"
      },
      "source": [
        "# Generate n fake images using the generator\n",
        "def generate_fake_images(generator, noise_dim, n_images):\n",
        "    # Generate noise vectors\n",
        "    noise = generate_input_noise(noise_dim, n_images)\n",
        "    # Use generator to create fake images from noise vectors\n",
        "    fakes = generator.predict(noise)\n",
        "    # create 'fake' class labels (0)\n",
        "    labels = np.zeros((n_images, 1))\n",
        "    return fakes, labels"
      ],
      "execution_count": 11,
      "outputs": []
    },
    {
      "cell_type": "markdown",
      "metadata": {
        "id": "-rvHT-HVz8I_"
      },
      "source": [
        "Let's also create a function that plot's fake images created by the generator so we look at them."
      ]
    },
    {
      "cell_type": "code",
      "metadata": {
        "id": "8oQgZUJtywl6"
      },
      "source": [
        "# Plot fake images created by generator from random noise\n",
        "def plot_generated_images(generator,noise_dim=100,n_images=25):\n",
        "    # Create the fake images (we don't need the labels here)\n",
        "    X, _ = generate_fake_images(generator, noise_dim, n_images)\n",
        "    # Plot the fake images\n",
        "    for i in range(n_images):\n",
        "        pyplot.subplot(5, 5, 1 + i)\n",
        "        pyplot.axis('off')\n",
        "        pyplot.imshow(X[i, :, :, 0], cmap='gray_r')\n",
        "    pyplot.show()"
      ],
      "execution_count": 12,
      "outputs": []
    },
    {
      "cell_type": "markdown",
      "metadata": {
        "id": "AzIYEk7d1PcE"
      },
      "source": [
        "Now we will create a function to make our GAN. This will involve putting the discriminator and generator together into a single model. We will also want to be able to treat them as individual models as well, so we will return (1) the discriminator, (2) the generator, and (3) the combined GAN.\n",
        "\n",
        "Note that we will make the weights in the discriminator non-trainable in the combined GAN model. This means that when we train the GAN we are actually only optimizing the weights in the generator. I discuss this further after we define the train function below.\n",
        "\n",
        "Once again, we will compile the model in the function. This is the optimizer that will be used for training the generator (because of the above). If you want to play around with the optimizer change the code inside the function."
      ]
    },
    {
      "cell_type": "code",
      "metadata": {
        "id": "P-nlZB3vqnZx"
      },
      "source": [
        "# Create the discriminator, generator and GAN networks.\n",
        "# Compile networks requiring compilation within function.\n",
        "def get_gan_models(noise_dim=100):\n",
        "    # Create the discriminator (compiled internally)\n",
        "    discriminator = get_discriminator()\n",
        "    # Create the generator\n",
        "    generator = get_generator(noise_dim)\n",
        "    \n",
        "    # Make weights in the discriminator not trainable\n",
        "    discriminator.trainable = False\n",
        "    \n",
        "    # Make GAN\n",
        "    inputs = Input((noise_dim,))\n",
        "    gan = Model(inputs,discriminator(generator(inputs)))\n",
        "    \n",
        "    # Compile model\n",
        "    opt = Adam(lr=0.0002, beta_1=0.5)\n",
        "    gan.compile(loss='binary_crossentropy', optimizer=opt)\n",
        "    \n",
        "    return discriminator,generator,gan"
      ],
      "execution_count": 21,
      "outputs": []
    },
    {
      "cell_type": "markdown",
      "metadata": {
        "id": "OE43_V3L4So7"
      },
      "source": [
        "Now let's finally get our networks. If you want to change the noise dimension we work with in the problem, change the value here."
      ]
    },
    {
      "cell_type": "code",
      "metadata": {
        "id": "Idpsovn34WHw"
      },
      "source": [
        "noise_dim=100\n",
        "discriminator,generator,gan=get_gan_models(noise_dim)"
      ],
      "execution_count": 14,
      "outputs": []
    },
    {
      "cell_type": "markdown",
      "metadata": {
        "id": "NH6IC5KBgMto"
      },
      "source": [
        "We are going to code a manual implementation of the training loop. This is so we can implement appropriate training for the discriminater and generator.\n",
        "\n",
        "Note we do not use validation data, and such data makes little sense in this context."
      ]
    },
    {
      "cell_type": "code",
      "metadata": {
        "id": "vgWX8PzE3-JM"
      },
      "source": [
        "# Train the generator and discriminator\n",
        "def train(\n",
        "    gan, \n",
        "    generator,\n",
        "    discriminator,\n",
        "    dataset, \n",
        "    noise_dim=100, \n",
        "    epochs=100, \n",
        "    batch_size=256\n",
        "):\n",
        "    # We keep the amount of work done per 'epoch' matching\n",
        "    # the dataset size, though in reality this is quite arbitrary.\n",
        "    batches_per_epoch = int(dataset.shape[0] / batch_size)\n",
        "    half_batch = int(batch_size / 2)\n",
        "    # Iterate through desired number of epochs\n",
        "    for i in range(epochs):\n",
        "      # Iterate through batches\n",
        "      d_loss_list = []\n",
        "      g_loss_list = []\n",
        "      for j in range(batches_per_epoch):\n",
        "        # Train the discriminator            \n",
        "        # Get randomly selected real images\n",
        "        X_real, Y_real = select_real_images(dataset, half_batch)\n",
        "        # Generate fake images\n",
        "        X_fake, Y_fake = generate_fake_images(generator, noise_dim, half_batch)\n",
        "        # Create training set for the discriminator\n",
        "        X, Y = np.vstack((X_real, X_fake)), np.vstack((Y_real, Y_fake))\n",
        "        # Update discriminator model weights\n",
        "        d_loss, _ = discriminator.train_on_batch(X, Y)\n",
        "        d_loss_list.append(d_loss) \n",
        "\n",
        "        # Train the generator\n",
        "        # Prepare input noise\n",
        "        X_gan = generate_input_noise(noise_dim, batch_size)\n",
        "        # Create inverted labels for the fake samples\n",
        "        # This is because the GAN/generator is trying to get the discriminator\n",
        "        # to classify these fake images as real.\n",
        "        Y_gan = np.ones((batch_size, 1))\n",
        "        # Update the generator weights via the discriminator's error\n",
        "        # Remember the discriminator's weights are fixed in the GAN,\n",
        "        # so these will not be adjusted.\n",
        "        g_loss = gan.train_on_batch(X_gan, Y_gan)\n",
        "        g_loss_list.append(g_loss)\n",
        "\n",
        "\n",
        "        # Give information about loss on this batch\n",
        "        # print(\"Epoch: {} Batch: {}/{} Disc. Loss: {:06.5f} Gen. Loss: {:06.5f}\".format(i+1, j+1,batches_per_epoch, d_loss, g_loss))\n",
        "        # print(\"Epoch: {} Batch: {}/{}\".format(i+1, j+1,batches_per_epoch))\n",
        "\n",
        "\n",
        "      # Epoch performance\n",
        "      print('Epoch: {}, Discriminator loss mean:{:06.5f}, Generator loss mean:{:06.5f}'.format(i+1,mean(d_loss_list),mean(g_loss_list)))"
      ],
      "execution_count": 22,
      "outputs": []
    },
    {
      "cell_type": "markdown",
      "metadata": {
        "id": "-TLtIfeNqnZz"
      },
      "source": [
        "Making the discriminator not trainable is a clever trick in the Keras API.\n",
        "\n",
        "The trainable property impacts the model after it is compiled. The discriminator model was compiled with trainable layers, therefore the model weights in those layers will be updated when the standalone model is updated via calls to the train_on_batch() function.\n",
        "\n",
        "The discriminator model was then marked as not trainable, added to the GAN model, and compiled. In this model, the model weights of the discriminator model are not trainable and cannot be changed when the GAN model is updated via calls to the train_on_batch() function. This change in the trainable property does not impact the training of standalone discriminator model.\n",
        "\n",
        "This behavior is described in the Keras API documentation here:\n",
        "\n",
        "[How can I “freeze” Keras layers?](https://keras.io/getting-started/faq/#how-can-i-freeze-keras-layers)"
      ]
    },
    {
      "cell_type": "code",
      "metadata": {
        "id": "JAOnVd-AqnZz",
        "colab": {
          "base_uri": "https://localhost:8080/"
        },
        "outputId": "544c387f-0459-402f-d5fa-5bb5c4dc025c"
      },
      "source": [
        "train(gan,generator,discriminator,X)"
      ],
      "execution_count": 23,
      "outputs": [
        {
          "output_type": "stream",
          "text": [
            "Epoch: 1, Discriminator loss mean:0.65257, Generator loss mean:0.80914\n",
            "Epoch: 2, Discriminator loss mean:0.65221, Generator loss mean:0.80224\n",
            "Epoch: 3, Discriminator loss mean:0.65379, Generator loss mean:0.80336\n",
            "Epoch: 4, Discriminator loss mean:0.65136, Generator loss mean:0.80579\n",
            "Epoch: 5, Discriminator loss mean:0.65279, Generator loss mean:0.80482\n",
            "Epoch: 6, Discriminator loss mean:0.65367, Generator loss mean:0.80392\n",
            "Epoch: 7, Discriminator loss mean:0.65065, Generator loss mean:0.80164\n",
            "Epoch: 8, Discriminator loss mean:0.65532, Generator loss mean:0.80930\n",
            "Epoch: 9, Discriminator loss mean:0.65381, Generator loss mean:0.79976\n",
            "Epoch: 10, Discriminator loss mean:0.65532, Generator loss mean:0.80296\n",
            "Epoch: 11, Discriminator loss mean:0.65567, Generator loss mean:0.80536\n",
            "Epoch: 12, Discriminator loss mean:0.65844, Generator loss mean:0.80473\n",
            "Epoch: 13, Discriminator loss mean:0.65819, Generator loss mean:0.80122\n",
            "Epoch: 14, Discriminator loss mean:0.65693, Generator loss mean:0.79546\n",
            "Epoch: 15, Discriminator loss mean:0.65977, Generator loss mean:0.79859\n",
            "Epoch: 16, Discriminator loss mean:0.65987, Generator loss mean:0.79246\n",
            "Epoch: 17, Discriminator loss mean:0.66201, Generator loss mean:0.79371\n",
            "Epoch: 18, Discriminator loss mean:0.66128, Generator loss mean:0.78435\n",
            "Epoch: 19, Discriminator loss mean:0.66174, Generator loss mean:0.78819\n",
            "Epoch: 20, Discriminator loss mean:0.66372, Generator loss mean:0.78572\n",
            "Epoch: 21, Discriminator loss mean:0.66229, Generator loss mean:0.78126\n",
            "Epoch: 22, Discriminator loss mean:0.66588, Generator loss mean:0.78443\n",
            "Epoch: 23, Discriminator loss mean:0.66635, Generator loss mean:0.78867\n",
            "Epoch: 24, Discriminator loss mean:0.66849, Generator loss mean:0.78659\n",
            "Epoch: 25, Discriminator loss mean:0.66756, Generator loss mean:0.77934\n",
            "Epoch: 26, Discriminator loss mean:0.66790, Generator loss mean:0.77055\n",
            "Epoch: 27, Discriminator loss mean:0.66877, Generator loss mean:0.77447\n",
            "Epoch: 28, Discriminator loss mean:0.67048, Generator loss mean:0.77443\n",
            "Epoch: 29, Discriminator loss mean:0.66882, Generator loss mean:0.76826\n",
            "Epoch: 30, Discriminator loss mean:0.66893, Generator loss mean:0.76766\n",
            "Epoch: 31, Discriminator loss mean:0.66912, Generator loss mean:0.76624\n",
            "Epoch: 32, Discriminator loss mean:0.67022, Generator loss mean:0.76656\n",
            "Epoch: 33, Discriminator loss mean:0.67206, Generator loss mean:0.76362\n",
            "Epoch: 34, Discriminator loss mean:0.66991, Generator loss mean:0.76419\n",
            "Epoch: 35, Discriminator loss mean:0.67227, Generator loss mean:0.76108\n",
            "Epoch: 36, Discriminator loss mean:0.67147, Generator loss mean:0.76050\n",
            "Epoch: 37, Discriminator loss mean:0.67149, Generator loss mean:0.75757\n",
            "Epoch: 38, Discriminator loss mean:0.67329, Generator loss mean:0.75671\n",
            "Epoch: 39, Discriminator loss mean:0.67290, Generator loss mean:0.75707\n",
            "Epoch: 40, Discriminator loss mean:0.67379, Generator loss mean:0.75454\n",
            "Epoch: 41, Discriminator loss mean:0.67347, Generator loss mean:0.75542\n",
            "Epoch: 42, Discriminator loss mean:0.67537, Generator loss mean:0.75289\n",
            "Epoch: 43, Discriminator loss mean:0.67497, Generator loss mean:0.75516\n",
            "Epoch: 44, Discriminator loss mean:0.67411, Generator loss mean:0.75305\n",
            "Epoch: 45, Discriminator loss mean:0.67437, Generator loss mean:0.75257\n",
            "Epoch: 46, Discriminator loss mean:0.67486, Generator loss mean:0.75410\n",
            "Epoch: 47, Discriminator loss mean:0.67601, Generator loss mean:0.75034\n",
            "Epoch: 48, Discriminator loss mean:0.67659, Generator loss mean:0.75144\n",
            "Epoch: 49, Discriminator loss mean:0.67467, Generator loss mean:0.75233\n",
            "Epoch: 50, Discriminator loss mean:0.67662, Generator loss mean:0.75133\n",
            "Epoch: 51, Discriminator loss mean:0.67616, Generator loss mean:0.75330\n",
            "Epoch: 52, Discriminator loss mean:0.67584, Generator loss mean:0.74842\n",
            "Epoch: 53, Discriminator loss mean:0.67690, Generator loss mean:0.75027\n",
            "Epoch: 54, Discriminator loss mean:0.67554, Generator loss mean:0.74834\n",
            "Epoch: 55, Discriminator loss mean:0.67585, Generator loss mean:0.75036\n",
            "Epoch: 56, Discriminator loss mean:0.67531, Generator loss mean:0.74749\n",
            "Epoch: 57, Discriminator loss mean:0.67668, Generator loss mean:0.74840\n",
            "Epoch: 58, Discriminator loss mean:0.67752, Generator loss mean:0.74844\n",
            "Epoch: 59, Discriminator loss mean:0.67652, Generator loss mean:0.74648\n",
            "Epoch: 60, Discriminator loss mean:0.67647, Generator loss mean:0.74475\n",
            "Epoch: 61, Discriminator loss mean:0.67628, Generator loss mean:0.74654\n",
            "Epoch: 62, Discriminator loss mean:0.67696, Generator loss mean:0.74793\n",
            "Epoch: 63, Discriminator loss mean:0.67748, Generator loss mean:0.74569\n",
            "Epoch: 64, Discriminator loss mean:0.67802, Generator loss mean:0.74653\n",
            "Epoch: 65, Discriminator loss mean:0.67672, Generator loss mean:0.74382\n",
            "Epoch: 66, Discriminator loss mean:0.67704, Generator loss mean:0.74737\n",
            "Epoch: 67, Discriminator loss mean:0.67701, Generator loss mean:0.74742\n",
            "Epoch: 68, Discriminator loss mean:0.67715, Generator loss mean:0.74504\n",
            "Epoch: 69, Discriminator loss mean:0.67679, Generator loss mean:0.74534\n",
            "Epoch: 70, Discriminator loss mean:0.67733, Generator loss mean:0.74621\n",
            "Epoch: 71, Discriminator loss mean:0.67749, Generator loss mean:0.74443\n",
            "Epoch: 72, Discriminator loss mean:0.67705, Generator loss mean:0.74529\n",
            "Epoch: 73, Discriminator loss mean:0.67730, Generator loss mean:0.74637\n",
            "Epoch: 74, Discriminator loss mean:0.67760, Generator loss mean:0.74541\n",
            "Epoch: 75, Discriminator loss mean:0.67698, Generator loss mean:0.74268\n",
            "Epoch: 76, Discriminator loss mean:0.67709, Generator loss mean:0.74540\n",
            "Epoch: 77, Discriminator loss mean:0.67664, Generator loss mean:0.74419\n",
            "Epoch: 78, Discriminator loss mean:0.67801, Generator loss mean:0.74318\n",
            "Epoch: 79, Discriminator loss mean:0.67777, Generator loss mean:0.74361\n",
            "Epoch: 80, Discriminator loss mean:0.67775, Generator loss mean:0.74408\n",
            "Epoch: 81, Discriminator loss mean:0.67784, Generator loss mean:0.74655\n",
            "Epoch: 82, Discriminator loss mean:0.67730, Generator loss mean:0.74348\n",
            "Epoch: 83, Discriminator loss mean:0.67842, Generator loss mean:0.74287\n",
            "Epoch: 84, Discriminator loss mean:0.67958, Generator loss mean:0.74246\n",
            "Epoch: 85, Discriminator loss mean:0.67825, Generator loss mean:0.74234\n",
            "Epoch: 86, Discriminator loss mean:0.67803, Generator loss mean:0.74276\n",
            "Epoch: 87, Discriminator loss mean:0.67776, Generator loss mean:0.74115\n",
            "Epoch: 88, Discriminator loss mean:0.67801, Generator loss mean:0.74216\n",
            "Epoch: 89, Discriminator loss mean:0.67865, Generator loss mean:0.74118\n",
            "Epoch: 90, Discriminator loss mean:0.67818, Generator loss mean:0.74146\n",
            "Epoch: 91, Discriminator loss mean:0.67890, Generator loss mean:0.74376\n",
            "Epoch: 92, Discriminator loss mean:0.67904, Generator loss mean:0.74057\n",
            "Epoch: 93, Discriminator loss mean:0.67916, Generator loss mean:0.74142\n",
            "Epoch: 94, Discriminator loss mean:0.67766, Generator loss mean:0.74090\n",
            "Epoch: 95, Discriminator loss mean:0.67773, Generator loss mean:0.74056\n",
            "Epoch: 96, Discriminator loss mean:0.67986, Generator loss mean:0.73928\n",
            "Epoch: 97, Discriminator loss mean:0.67845, Generator loss mean:0.74054\n",
            "Epoch: 98, Discriminator loss mean:0.67928, Generator loss mean:0.74237\n",
            "Epoch: 99, Discriminator loss mean:0.67896, Generator loss mean:0.74158\n",
            "Epoch: 100, Discriminator loss mean:0.67861, Generator loss mean:0.73962\n"
          ],
          "name": "stdout"
        }
      ]
    },
    {
      "cell_type": "markdown",
      "metadata": {
        "id": "HWyxm3-eqnZ2"
      },
      "source": [
        "You may see a warning:\n",
        "\n",
        "UserWarning: Discrepancy between trainable weights and collected trainable weights, did you set `model.trainable` without calling `model.compile` after ?\n",
        "  'Discrepancy between trainable weights and collected trainable'\n",
        "\n",
        "Don't worry about this - it is actually doing exactly what we want.\n",
        "\n",
        "When you set certain weights to trainable or untrainable (as we did in the line: discriminator.trainable = False) this only takes effect once you compile the model. We compiled the discriminator model before this call, so its weights are still trainable when we train *the discriminator model* by batch.\n",
        "\n",
        "But the discriminator model is also a *sub-model* of our complete GAN. And the GAN model was compiled *after* we set the discriminator weights to untrainable. So the discriminator weights will not be trained when we train the GAN model by batch. Neat huh?\n",
        "\n",
        "The warning is Keras thinking we have been too clever by half and are possibly making a mistake somewhere. But we aren't. :)\n",
        "\n",
        "You could get rid of the warning by setting the discriminator trainability to True and False and then recompiling models within the training loop. But that would be a lot more work..."
      ]
    },
    {
      "cell_type": "code",
      "metadata": {
        "id": "vvPiMH3kqnZ2",
        "colab": {
          "base_uri": "https://localhost:8080/",
          "height": 248
        },
        "outputId": "c132417e-9614-4336-8fbe-2a0b6be1cf9d"
      },
      "source": [
        "#Iter 1, after 100 epochs, generator loss is 0.73962\n",
        "plot_generated_images(generator,100,25)"
      ],
      "execution_count": 25,
      "outputs": [
        {
          "output_type": "display_data",
          "data": {
            "image/png": "[encoded data removed]",
            "text/plain": [
              "<Figure size 432x288 with 25 Axes>"
            ]
          },
          "metadata": {
            "tags": [],
            "needs_background": "light"
          }
        }
      ]
    }
  ]
}